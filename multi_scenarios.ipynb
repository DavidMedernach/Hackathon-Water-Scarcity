{
 "cells": [
  {
   "cell_type": "markdown",
   "metadata": {},
   "source": [
    "# Water Allocation Simulation Analysis\n",
    "This notebook provides tools to analyze the results of the water allocation simulation\n",
    "across multiple scenarios, focusing on ecological and economic impacts under different\n",
    "conditions.\n",
    "\n",
    "## Overview\n",
    "The simulation tests water allocation policies across various scenarios with different:\n",
    "- River basins (station configurations)\n",
    "- Actor compositions (different archetypes from the paper)\n",
    "- Water scarcity levels\n",
    "- Forecast error profiles (bias and uncertainty)\n",
    "\n",
    "The analysis evaluates how these factors affect both ecological integrity and economic benefits.\n",
    "\n",
    "\n",
    "In this notebook we will:\n",
    "1. Run the set of evaluation scenarios varying station size, scarcity level,  \n",
    "   forecast bias and uncertainty.\n",
    "2. Collect ecological and economic impact metrics for each run.\n",
    "3. Visualize trade-offs and explore how model parameters influence outcomes."
   ]
  },
  {
   "cell_type": "code",
   "execution_count": null,
   "metadata": {},
   "outputs": [],
   "source": [
    "\n",
    "import numpy as np\n",
    "import matplotlib.pyplot as plt\n",
    "import pandas as pd\n",
    "import seaborn as sns\n",
    "from types import MethodType\n",
    "import src.core as wms\n",
    "import src.plot_analysis as gtp\n",
    "import src.utils as utils\n",
    "import src.policies.incentive_policies as eip\n",
    "import src.policies.quota_policies as eqp\n",
    "import src.scenarios as sc\n",
    "import src.utils as utils\n",
    "import src.plot_multi_analysis as pma\n",
    "import src.policies.incentive_policies as eip\n",
    "import src.policies.quota_policies as eqp\n",
    "\n",
    "# Set better visualization defaults\n",
    "plt.style.use('seaborn-v0_8-whitegrid')\n",
    "sns.set_context(\"talk\")\n",
    "plt.rcParams['figure.figsize'] = (12, 8)\n",
    "plt.rcParams['figure.dpi'] = 100"
   ]
  },
  {
   "cell_type": "code",
   "execution_count": 2,
   "metadata": {},
   "outputs": [],
   "source": [
    "# define your custom quota policy \n",
    "def custom_quota(self, \n",
    "                crisis_level: int, # for testing purposes only you can't use it in your final policy\n",
    "                actors_priority: np.ndarray,\n",
    "                avg_pump: np.ndarray,\n",
    "                DOE: float,\n",
    "                DCR: float) -> np.ndarray:\n",
    "    \"\"\"\n",
    "    Compute the quota for each actor based on the crisis level.\n",
    "    \n",
    "    Parameters:\n",
    "    -----------\n",
    "    crisis_level : int\n",
    "        Current water crisis level (-1: Normal, 0: Alert, 1: High-Alert, 2: Crisis)\n",
    "    actors_priority : np.ndarray\n",
    "        Priority level of each actor (2: High, 1: Medium, 0: Low)\n",
    "    avg_pump : np.ndarray\n",
    "        Average water pumped by each actor over the past year\n",
    "    DOE : float\n",
    "        Objective Low-Water Flow threshold\n",
    "    DCR : float\n",
    "        Crisis Flow threshold\n",
    "        \n",
    "    Returns:\n",
    "    --------\n",
    "    np.ndarray\n",
    "        Array of quotas for each actor\n",
    "    \"\"\"\n",
    "    # Default implementation: use hard quota policy from example\n",
    "    return avg_pump\n",
    "\n",
    "# or use the example incentive policy\n",
    "# custom_quota = eqp.hard_quota"
   ]
  },
  {
   "cell_type": "code",
   "execution_count": 3,
   "metadata": {},
   "outputs": [],
   "source": [
    "# define your custom quota policy \n",
    "def custom_incentive_policy(self,\n",
    "                        actions: np.ndarray, # for testing purposes only you can't use it in your final policy\n",
    "                        actors_priority: np.ndarray,\n",
    "                        avg_incomes: np.ndarray,\n",
    "                        water_pump: np.ndarray,\n",
    "                        avg_pump: np.ndarray,\n",
    "                        is_crisis: np.ndarray,\n",
    "                        water_flows: np.ndarray,\n",
    "                        quota: np.ndarray,\n",
    "                        DOE = 15,\n",
    "                        DCR = 10) -> np.ndarray:\n",
    "    \"\"\"\n",
    "    Compute fines or subsidies for each actor based on their actions and water usage.\n",
    "    \n",
    "    Parameters:\n",
    "    -----------\n",
    "    actions : np.ndarray\n",
    "        Boolean array indicating which actors cooperated (True) or defected (False)\n",
    "    actors_priority : np.ndarray\n",
    "        Priority level of each actor (2: High, 1: Medium, 0: Low)\n",
    "    avg_incomes : np.ndarray\n",
    "        Average income for each actor over the past year\n",
    "    water_pump : np.ndarray\n",
    "        Water pumped by each actor in current turn\n",
    "    avg_pump : np.ndarray\n",
    "        Average water pumped by each actor over the past year\n",
    "    is_crisis : np.ndarray\n",
    "        Crisis levels for past turns, including current turn\n",
    "    water_flows : np.ndarray\n",
    "        River flows for past turns, including current turn\n",
    "    quota : np.ndarray\n",
    "        Quota for each actor in current turn\n",
    "    DOE : float\n",
    "        Objective Low-Water Flow threshold\n",
    "    DCR : float\n",
    "        Crisis Flow threshold\n",
    "        \n",
    "    Returns:\n",
    "    --------\n",
    "    np.ndarray\n",
    "        Array of fines (positive values) or subsidies (negative values) for each actor\n",
    "    \"\"\"\n",
    "    # Default implementation: no incentive policy\n",
    "    return np.zeros_like(actors_priority)\n",
    "\n",
    "# or use the example incentive policy\n",
    "# custom_incentive_policy = eip.no_policy"
   ]
  },
  {
   "cell_type": "markdown",
   "metadata": {},
   "source": [
    "## Scenario Definition\n",
    "Runs simulations across the pre-defined scenarios.\n",
    "We iterate over:\n",
    "- **Stations**: Tarn vs. La Vézère  \n",
    "- **Scarcity levels**: low / medium / high  \n",
    "- **2 set of actors and variant with heterogenous biaises and uncertainties**  \n",
    "- **Forecast bias/uncertainty** settings  \n"
   ]
  },
  {
   "cell_type": "code",
   "execution_count": 4,
   "metadata": {},
   "outputs": [],
   "source": [
    "if False:\n",
    "    results_df = sc.run_all_scenarios(\n",
    "        turns=700,\n",
    "        iterations=2,\n",
    "        custom_incentive_policy=custom_incentive_policy,\n",
    "        custom_quota=custom_quota)\n"
   ]
  },
  {
   "cell_type": "markdown",
   "metadata": {},
   "source": [
    "\n",
    "## Multi-Scenario Analysis\n"
   ]
  },
  {
   "cell_type": "markdown",
   "metadata": {},
   "source": [
    "Save the results if needed."
   ]
  },
  {
   "cell_type": "code",
   "execution_count": 5,
   "metadata": {},
   "outputs": [],
   "source": [
    "# save results_df to csv\n",
    "# results_df.to_csv('results_df.csv', index=False)\n",
    "\n",
    "# load results_df from csv\n",
    "results_df = pd.read_csv('results_df.csv')\n"
   ]
  },
  {
   "cell_type": "markdown",
   "metadata": {},
   "source": [
    "### Ecological vs. economic impact."
   ]
  },
  {
   "cell_type": "code",
   "execution_count": null,
   "metadata": {},
   "outputs": [],
   "source": [
    "pma.analyze_scenario_impacts(results_df)"
   ]
  },
  {
   "cell_type": "markdown",
   "metadata": {},
   "source": [
    "## Analyzing Forecast Bias & Uncertainty & Scarcity levels"
   ]
  },
  {
   "cell_type": "code",
   "execution_count": null,
   "metadata": {},
   "outputs": [],
   "source": [
    "pma.analyze_forecast_effects(results_df)"
   ]
  },
  {
   "cell_type": "markdown",
   "metadata": {},
   "source": [
    "## Correlation Analysis\n"
   ]
  },
  {
   "cell_type": "code",
   "execution_count": null,
   "metadata": {},
   "outputs": [],
   "source": [
    "pma.correlation_analysis(results_df)"
   ]
  },
  {
   "cell_type": "markdown",
   "metadata": {},
   "source": [
    "## Conclusion\n",
    "This notebook has demonstrated how to analyze water allocation policies across multiple scenarios,\n",
    "focusing on the balance between ecological and economic impacts. To participate in the hackathon:\n",
    "\n",
    "1. Design your own adaptive policy by modifying the `custom_incentive_policy` and `custom_quota` functions\n",
    "2. Test your policy across multiple scenarios using the tools provided\n",
    "3. Optimize your policy to balance ecological integrity and economic benefits\n",
    "\n",
    "Good luck!"
   ]
  }
 ],
 "metadata": {
  "kernelspec": {
   "display_name": ".venv",
   "language": "python",
   "name": "python3"
  },
  "language_info": {
   "codemirror_mode": {
    "name": "ipython",
    "version": 3
   },
   "file_extension": ".py",
   "mimetype": "text/x-python",
   "name": "python",
   "nbconvert_exporter": "python",
   "pygments_lexer": "ipython3",
   "version": "3.10.9"
  }
 },
 "nbformat": 4,
 "nbformat_minor": 4
}
